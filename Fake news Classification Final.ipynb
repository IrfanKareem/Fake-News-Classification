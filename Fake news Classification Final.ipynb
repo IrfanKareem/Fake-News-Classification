{
 "cells": [
  {
   "cell_type": "code",
   "execution_count": 1,
   "metadata": {},
   "outputs": [],
   "source": [
    "# import dependencies\n",
    "%matplotlib inline\n",
    "import pandas as pd\n",
    "import numpy as np\n",
    "import nltk\n",
    "from nltk.corpus import stopwords\n",
    "import gensim\n",
    "from gensim.models import LdaModel\n",
    "from gensim import models, corpora, similarities\n",
    "import re\n",
    "from nltk.stem.porter import PorterStemmer\n",
    "import time\n",
    "from nltk import FreqDist\n",
    "from scipy.stats import entropy\n",
    "import matplotlib.pyplot as plt\n",
    "import seaborn as sns\n",
    "sns.set_style(\"darkgrid\")\n",
    "\n",
    "import matplotlib.pyplot as plt\n",
    "import matplotlib\n",
    "matplotlib.style.use('ggplot')\n",
    "\n",
    "from subprocess import check_output"
   ]
  },
  {
   "cell_type": "code",
   "execution_count": 2,
   "metadata": {},
   "outputs": [],
   "source": [
    "df=pd.read_excel('Train_set.xlsx')"
   ]
  },
  {
   "cell_type": "code",
   "execution_count": 3,
   "metadata": {},
   "outputs": [
    {
     "data": {
      "text/html": [
       "<div>\n",
       "<style scoped>\n",
       "    .dataframe tbody tr th:only-of-type {\n",
       "        vertical-align: middle;\n",
       "    }\n",
       "\n",
       "    .dataframe tbody tr th {\n",
       "        vertical-align: top;\n",
       "    }\n",
       "\n",
       "    .dataframe thead th {\n",
       "        text-align: right;\n",
       "    }\n",
       "</style>\n",
       "<table border=\"1\" class=\"dataframe\">\n",
       "  <thead>\n",
       "    <tr style=\"text-align: right;\">\n",
       "      <th></th>\n",
       "      <th>title</th>\n",
       "      <th>text</th>\n",
       "      <th>label</th>\n",
       "    </tr>\n",
       "  </thead>\n",
       "  <tbody>\n",
       "    <tr>\n",
       "      <th>0</th>\n",
       "      <td>This man claims to be Pakistan's answer to the...</td>\n",
       "      <td>This man claims to be Pakistan's answer to the...</td>\n",
       "      <td>Fake</td>\n",
       "    </tr>\n",
       "    <tr>\n",
       "      <th>1</th>\n",
       "      <td>Grade 20 officer steals Kuwaiti delegate’s wal...</td>\n",
       "      <td>ISLAMABAD: The government was exposed to extre...</td>\n",
       "      <td>Fake</td>\n",
       "    </tr>\n",
       "    <tr>\n",
       "      <th>2</th>\n",
       "      <td>Paid day-to-day expenses of PM House from my o...</td>\n",
       "      <td>Incarcerated former prime minister Nawaz Shari...</td>\n",
       "      <td>Fake</td>\n",
       "    </tr>\n",
       "    <tr>\n",
       "      <th>3</th>\n",
       "      <td>Rimal Khan and Her Alleged Relation With Imran...</td>\n",
       "      <td>Rimal Ali, a female Transgender disowned by fa...</td>\n",
       "      <td>Fake</td>\n",
       "    </tr>\n",
       "    <tr>\n",
       "      <th>4</th>\n",
       "      <td>Major oil find near Pak-Iran border</td>\n",
       "      <td>KARACHI: Minister for Maritime Affairs and For...</td>\n",
       "      <td>Fake</td>\n",
       "    </tr>\n",
       "  </tbody>\n",
       "</table>\n",
       "</div>"
      ],
      "text/plain": [
       "                                               title  \\\n",
       "0  This man claims to be Pakistan's answer to the...   \n",
       "1  Grade 20 officer steals Kuwaiti delegate’s wal...   \n",
       "2  Paid day-to-day expenses of PM House from my o...   \n",
       "3  Rimal Khan and Her Alleged Relation With Imran...   \n",
       "4                Major oil find near Pak-Iran border   \n",
       "\n",
       "                                                text label  \n",
       "0  This man claims to be Pakistan's answer to the...  Fake  \n",
       "1  ISLAMABAD: The government was exposed to extre...  Fake  \n",
       "2  Incarcerated former prime minister Nawaz Shari...  Fake  \n",
       "3  Rimal Ali, a female Transgender disowned by fa...  Fake  \n",
       "4  KARACHI: Minister for Maritime Affairs and For...  Fake  "
      ]
     },
     "execution_count": 3,
     "metadata": {},
     "output_type": "execute_result"
    }
   ],
   "source": [
    "df.head()"
   ]
  },
  {
   "cell_type": "code",
   "execution_count": 4,
   "metadata": {},
   "outputs": [],
   "source": [
    "def initial_clean(text):\n",
    "    \"\"\"\n",
    "    Function to clean text of websites, email addresess and any punctuation\n",
    "    We also lower case the text\n",
    "    \"\"\"\n",
    "    text = re.sub(\"((\\S+)?(http(s)?)(\\S+))|((\\S+)?(www)(\\S+))|((\\S+)?(\\@)(\\S+)?)\", \" \", text)\n",
    "    text = re.sub(\"[^a-zA-Z ]\", \"\", text)\n",
    "    text = text.lower() # lower case the text\n",
    "    text = nltk.word_tokenize(text)\n",
    "    return text\n",
    "\n",
    "stop_words = stopwords.words('english')\n",
    "def remove_stop_words(text):\n",
    "    \"\"\"\n",
    "    Function that removes all stopwords from text\n",
    "    \"\"\"\n",
    "    return [word for word in text if word not in stop_words]\n",
    "\n",
    "stemmer = PorterStemmer()\n",
    "def stem_words(text):\n",
    "    \"\"\"\n",
    "    Function to stem words, so plural and singular are treated the same\n",
    "    \"\"\"\n",
    "    try:\n",
    "        text = [stemmer.stem(word) for word in text]\n",
    "        text = [word for word in text if len(word) > 1] \n",
    "    except IndexError: \n",
    "        pass\n",
    "    return text\n",
    "\n",
    "def apply_all(text):\n",
    "    \"\"\"\n",
    "    This function applies all the functions above into one\n",
    "    \"\"\"\n",
    "    return stem_words(remove_stop_words(initial_clean(text)))"
   ]
  },
  {
   "cell_type": "code",
   "execution_count": 5,
   "metadata": {},
   "outputs": [
    {
     "name": "stdout",
     "output_type": "stream",
     "text": [
      "Time to clean and tokenize 344 articles: 0.10360402663548787 min\n"
     ]
    }
   ],
   "source": [
    "# clean text and title and create new column \"tokenized\"\n",
    "t1 = time.time()\n",
    "df['tokenized'] = df['text'].apply(apply_all) + df['title'].apply(apply_all)\n",
    "t2 = time.time()\n",
    "print(\"Time to clean and tokenize\", len(df), \"articles:\", (t2-t1)/60, \"min\")"
   ]
  },
  {
   "cell_type": "code",
   "execution_count": 6,
   "metadata": {},
   "outputs": [
    {
     "data": {
      "text/plain": [
       "9063"
      ]
     },
     "execution_count": 6,
     "metadata": {},
     "output_type": "execute_result"
    }
   ],
   "source": [
    "# first get a list of all words\n",
    "all_words = [word for item in list(df['tokenized']) for word in item]\n",
    "# use nltk fdist to get a frequency distribution of all words\n",
    "fdist = FreqDist(all_words)\n",
    "len(fdist) # number of unique words"
   ]
  },
  {
   "cell_type": "code",
   "execution_count": 7,
   "metadata": {},
   "outputs": [
    {
     "data": {
      "text/plain": [
       "[('styleth', 1),\n",
       " ('exclam', 1),\n",
       " ('postsal', 1),\n",
       " ('brows', 1),\n",
       " ('pagethi', 1),\n",
       " ('correctedth', 1),\n",
       " ('versionministri', 1),\n",
       " ('tweetdur', 1),\n",
       " ('countrieshowev', 1),\n",
       " ('khanpompeo', 1)]"
      ]
     },
     "execution_count": 7,
     "metadata": {},
     "output_type": "execute_result"
    }
   ],
   "source": [
    "k = 15000\n",
    "top_k_words = fdist.most_common(k)\n",
    "top_k_words[-10:]"
   ]
  },
  {
   "cell_type": "code",
   "execution_count": 8,
   "metadata": {},
   "outputs": [],
   "source": [
    "# define a function only to keep words in the top k words\n",
    "top_k_words,_ = zip(*fdist.most_common(k))\n",
    "top_k_words = set(top_k_words)\n",
    "def keep_top_k_words(text):\n",
    "    return [word for word in text if word in top_k_words]"
   ]
  },
  {
   "cell_type": "code",
   "execution_count": 9,
   "metadata": {},
   "outputs": [],
   "source": [
    "df['tokenized'] = df['tokenized'].apply(keep_top_k_words)"
   ]
  },
  {
   "cell_type": "code",
   "execution_count": 10,
   "metadata": {},
   "outputs": [
    {
     "name": "stdout",
     "output_type": "stream",
     "text": [
      "length of list: 344 \n",
      "average document length 212.625 \n",
      "minimum document length 17 \n",
      "maximum document length 895\n"
     ]
    }
   ],
   "source": [
    "# document length\n",
    "df['doc_len'] = df['tokenized'].apply(lambda x: len(x))\n",
    "doc_lengths = list(df['doc_len'])\n",
    "df.drop(labels='doc_len', axis=1, inplace=True)\n",
    "\n",
    "print(\"length of list:\",len(doc_lengths),\n",
    "      \"\\naverage document length\", np.average(doc_lengths),\n",
    "      \"\\nminimum document length\", min(doc_lengths),\n",
    "      \"\\nmaximum document length\", max(doc_lengths))"
   ]
  },
  {
   "cell_type": "code",
   "execution_count": 11,
   "metadata": {},
   "outputs": [
    {
     "name": "stderr",
     "output_type": "stream",
     "text": [
      "C:\\Users\\iwx499921\\AppData\\Local\\Continuum\\anaconda3\\lib\\site-packages\\matplotlib\\axes\\_axes.py:6462: UserWarning: The 'normed' kwarg is deprecated, and has been replaced by the 'density' kwarg.\n",
      "  warnings.warn(\"The 'normed' kwarg is deprecated, and has been \"\n"
     ]
    },
    {
     "data": {
      "image/png": "[encoded data removed]",
      "text/plain": [
       "<Figure size 864x432 with 1 Axes>"
      ]
     },
     "metadata": {},
     "output_type": "display_data"
    }
   ],
   "source": [
    "# plot a histogram of document length\n",
    "num_bins = 1000\n",
    "fig, ax = plt.subplots(figsize=(12,6));\n",
    "# the histogram of the data\n",
    "n, bins, patches = ax.hist(doc_lengths, num_bins, normed=1)\n",
    "ax.set_xlabel('Document Length (tokens)', fontsize=15)\n",
    "ax.set_ylabel('Normed Frequency', fontsize=15)\n",
    "ax.grid()\n",
    "ax.set_xticks(np.logspace(start=np.log10(50),stop=np.log10(2000),num=8, base=10.0))\n",
    "plt.xlim(0,1500)\n",
    "ax.plot([np.average(doc_lengths) for i in np.linspace(0.0,0.0035,100)], np.linspace(0.0,0.0035,100), '-',\n",
    "        label='average doc length')\n",
    "ax.legend()\n",
    "ax.grid()\n",
    "fig.tight_layout()\n",
    "plt.show()"
   ]
  },
  {
   "cell_type": "code",
   "execution_count": 12,
   "metadata": {},
   "outputs": [
    {
     "name": "stdout",
     "output_type": "stream",
     "text": [
      "After cleaning and excluding short aticles, the dataframe now has: 344 articles\n"
     ]
    }
   ],
   "source": [
    "# only keep articles with more than 5 tokens, otherwise too short\n",
    "df = df[df['tokenized'].map(len) >= 5]\n",
    "# make sure all tokenized items are lists\n",
    "df = df[df['tokenized'].map(type) == list]\n",
    "df.reset_index(drop=True,inplace=True)\n",
    "print(\"After cleaning and excluding short aticles, the dataframe now has:\", len(df), \"articles\")"
   ]
  },
  {
   "cell_type": "code",
   "execution_count": 13,
   "metadata": {},
   "outputs": [
    {
     "data": {
      "text/html": [
       "<div>\n",
       "<style scoped>\n",
       "    .dataframe tbody tr th:only-of-type {\n",
       "        vertical-align: middle;\n",
       "    }\n",
       "\n",
       "    .dataframe tbody tr th {\n",
       "        vertical-align: top;\n",
       "    }\n",
       "\n",
       "    .dataframe thead th {\n",
       "        text-align: right;\n",
       "    }\n",
       "</style>\n",
       "<table border=\"1\" class=\"dataframe\">\n",
       "  <thead>\n",
       "    <tr style=\"text-align: right;\">\n",
       "      <th></th>\n",
       "      <th>title</th>\n",
       "      <th>text</th>\n",
       "      <th>label</th>\n",
       "      <th>tokenized</th>\n",
       "    </tr>\n",
       "  </thead>\n",
       "  <tbody>\n",
       "    <tr>\n",
       "      <th>0</th>\n",
       "      <td>This man claims to be Pakistan's answer to the...</td>\n",
       "      <td>This man claims to be Pakistan's answer to the...</td>\n",
       "      <td>Fake</td>\n",
       "      <td>[man, claim, pakistan, answer, hulkmardan, wei...</td>\n",
       "    </tr>\n",
       "    <tr>\n",
       "      <th>1</th>\n",
       "      <td>Grade 20 officer steals Kuwaiti delegate’s wal...</td>\n",
       "      <td>ISLAMABAD: The government was exposed to extre...</td>\n",
       "      <td>Fake</td>\n",
       "      <td>[islamabad, govern, expos, extrem, embarrass, ...</td>\n",
       "    </tr>\n",
       "    <tr>\n",
       "      <th>2</th>\n",
       "      <td>Paid day-to-day expenses of PM House from my o...</td>\n",
       "      <td>Incarcerated former prime minister Nawaz Shari...</td>\n",
       "      <td>Fake</td>\n",
       "      <td>[incarcer, former, prime, minist, nawaz, shari...</td>\n",
       "    </tr>\n",
       "    <tr>\n",
       "      <th>3</th>\n",
       "      <td>Rimal Khan and Her Alleged Relation With Imran...</td>\n",
       "      <td>Rimal Ali, a female Transgender disowned by fa...</td>\n",
       "      <td>Fake</td>\n",
       "      <td>[rimal, ali, femal, transgend, disown, famili,...</td>\n",
       "    </tr>\n",
       "    <tr>\n",
       "      <th>4</th>\n",
       "      <td>Major oil find near Pak-Iran border</td>\n",
       "      <td>KARACHI: Minister for Maritime Affairs and For...</td>\n",
       "      <td>Fake</td>\n",
       "      <td>[karachi, minist, maritim, affair, foreign, af...</td>\n",
       "    </tr>\n",
       "  </tbody>\n",
       "</table>\n",
       "</div>"
      ],
      "text/plain": [
       "                                               title  \\\n",
       "0  This man claims to be Pakistan's answer to the...   \n",
       "1  Grade 20 officer steals Kuwaiti delegate’s wal...   \n",
       "2  Paid day-to-day expenses of PM House from my o...   \n",
       "3  Rimal Khan and Her Alleged Relation With Imran...   \n",
       "4                Major oil find near Pak-Iran border   \n",
       "\n",
       "                                                text label  \\\n",
       "0  This man claims to be Pakistan's answer to the...  Fake   \n",
       "1  ISLAMABAD: The government was exposed to extre...  Fake   \n",
       "2  Incarcerated former prime minister Nawaz Shari...  Fake   \n",
       "3  Rimal Ali, a female Transgender disowned by fa...  Fake   \n",
       "4  KARACHI: Minister for Maritime Affairs and For...  Fake   \n",
       "\n",
       "                                           tokenized  \n",
       "0  [man, claim, pakistan, answer, hulkmardan, wei...  \n",
       "1  [islamabad, govern, expos, extrem, embarrass, ...  \n",
       "2  [incarcer, former, prime, minist, nawaz, shari...  \n",
       "3  [rimal, ali, femal, transgend, disown, famili,...  \n",
       "4  [karachi, minist, maritim, affair, foreign, af...  "
      ]
     },
     "execution_count": 13,
     "metadata": {},
     "output_type": "execute_result"
    }
   ],
   "source": [
    "df.head()"
   ]
  },
  {
   "cell_type": "code",
   "execution_count": 14,
   "metadata": {},
   "outputs": [
    {
     "data": {
      "text/html": [
       "<div>\n",
       "<style scoped>\n",
       "    .dataframe tbody tr th:only-of-type {\n",
       "        vertical-align: middle;\n",
       "    }\n",
       "\n",
       "    .dataframe tbody tr th {\n",
       "        vertical-align: top;\n",
       "    }\n",
       "\n",
       "    .dataframe thead th {\n",
       "        text-align: right;\n",
       "    }\n",
       "</style>\n",
       "<table border=\"1\" class=\"dataframe\">\n",
       "  <thead>\n",
       "    <tr style=\"text-align: right;\">\n",
       "      <th></th>\n",
       "      <th>title</th>\n",
       "      <th>text</th>\n",
       "      <th>label</th>\n",
       "      <th>tokenized</th>\n",
       "    </tr>\n",
       "  </thead>\n",
       "  <tbody>\n",
       "    <tr>\n",
       "      <th>206</th>\n",
       "      <td>Fake news: Year-old screenshot of DawnNews sha...</td>\n",
       "      <td>A screenshot from a TV news report aired last ...</td>\n",
       "      <td>Fake</td>\n",
       "      <td>[screenshot, tv, news, report, air, last, year...</td>\n",
       "    </tr>\n",
       "    <tr>\n",
       "      <th>341</th>\n",
       "      <td>Fake news: Year-old screenshot of DawnNews sha...</td>\n",
       "      <td>A screenshot from a TV news report aired last ...</td>\n",
       "      <td>True</td>\n",
       "      <td>[screenshot, tv, news, report, air, last, year...</td>\n",
       "    </tr>\n",
       "    <tr>\n",
       "      <th>176</th>\n",
       "      <td>Banks, cement help index close in green</td>\n",
       "      <td>KARACHI: Trading remained range-bound at the s...</td>\n",
       "      <td>True</td>\n",
       "      <td>[karachi, trade, remain, rangebound, stock, ma...</td>\n",
       "    </tr>\n",
       "    <tr>\n",
       "      <th>116</th>\n",
       "      <td>You can now travel from Karachi to Dhabeji in ...</td>\n",
       "      <td>\\n\\n\\n\\nDaily labourers will now be able to tr...</td>\n",
       "      <td>True</td>\n",
       "      <td>[daili, labour, abl, travel, karachi, dhabeji,...</td>\n",
       "    </tr>\n",
       "    <tr>\n",
       "      <th>254</th>\n",
       "      <td>Russia blocks Ukrainian navy from entering Sea...</td>\n",
       "      <td>KIEV: Ukraine’s navy said on Sunday that Russi...</td>\n",
       "      <td>True</td>\n",
       "      <td>[kiev, ukrain, navi, said, sunday, russia, bor...</td>\n",
       "    </tr>\n",
       "  </tbody>\n",
       "</table>\n",
       "</div>"
      ],
      "text/plain": [
       "                                                 title  \\\n",
       "206  Fake news: Year-old screenshot of DawnNews sha...   \n",
       "341  Fake news: Year-old screenshot of DawnNews sha...   \n",
       "176            Banks, cement help index close in green   \n",
       "116  You can now travel from Karachi to Dhabeji in ...   \n",
       "254  Russia blocks Ukrainian navy from entering Sea...   \n",
       "\n",
       "                                                  text  label  \\\n",
       "206  A screenshot from a TV news report aired last ...   Fake   \n",
       "341  A screenshot from a TV news report aired last ...  True    \n",
       "176  KARACHI: Trading remained range-bound at the s...  True    \n",
       "116  \\n\\n\\n\\nDaily labourers will now be able to tr...  True    \n",
       "254  KIEV: Ukraine’s navy said on Sunday that Russi...  True    \n",
       "\n",
       "                                             tokenized  \n",
       "206  [screenshot, tv, news, report, air, last, year...  \n",
       "341  [screenshot, tv, news, report, air, last, year...  \n",
       "176  [karachi, trade, remain, rangebound, stock, ma...  \n",
       "116  [daili, labour, abl, travel, karachi, dhabeji,...  \n",
       "254  [kiev, ukrain, navi, said, sunday, russia, bor...  "
      ]
     },
     "execution_count": 14,
     "metadata": {},
     "output_type": "execute_result"
    }
   ],
   "source": [
    "from sklearn.model_selection import train_test_split\n",
    "train, test = train_test_split(df, test_size = 0.2)\n",
    "\n",
    "from nltk.corpus import stopwords \n",
    "train.columns.values\n",
    "train.head()"
   ]
  },
  {
   "cell_type": "code",
   "execution_count": 15,
   "metadata": {},
   "outputs": [
    {
     "name": "stderr",
     "output_type": "stream",
     "text": [
      "C:\\Users\\iwx499921\\AppData\\Local\\Continuum\\anaconda3\\lib\\site-packages\\pandas\\core\\generic.py:5430: SettingWithCopyWarning: \n",
      "A value is trying to be set on a copy of a slice from a DataFrame\n",
      "\n",
      "See the caveats in the documentation: http://pandas.pydata.org/pandas-docs/stable/indexing.html#indexing-view-versus-copy\n",
      "  self._update_inplace(new_data)\n",
      "C:\\Users\\iwx499921\\AppData\\Local\\Continuum\\anaconda3\\lib\\site-packages\\ipykernel_launcher.py:11: SettingWithCopyWarning: \n",
      "A value is trying to be set on a copy of a slice from a DataFrame.\n",
      "Try using .loc[row_indexer,col_indexer] = value instead\n",
      "\n",
      "See the caveats in the documentation: http://pandas.pydata.org/pandas-docs/stable/indexing.html#indexing-view-versus-copy\n",
      "  # This is added back by InteractiveShellApp.init_path()\n",
      "C:\\Users\\iwx499921\\AppData\\Local\\Continuum\\anaconda3\\lib\\site-packages\\ipykernel_launcher.py:13: SettingWithCopyWarning: \n",
      "A value is trying to be set on a copy of a slice from a DataFrame.\n",
      "Try using .loc[row_indexer,col_indexer] = value instead\n",
      "\n",
      "See the caveats in the documentation: http://pandas.pydata.org/pandas-docs/stable/indexing.html#indexing-view-versus-copy\n",
      "  del sys.path[0]\n"
     ]
    },
    {
     "data": {
      "text/html": [
       "<div>\n",
       "<style scoped>\n",
       "    .dataframe tbody tr th:only-of-type {\n",
       "        vertical-align: middle;\n",
       "    }\n",
       "\n",
       "    .dataframe tbody tr th {\n",
       "        vertical-align: top;\n",
       "    }\n",
       "\n",
       "    .dataframe thead th {\n",
       "        text-align: right;\n",
       "    }\n",
       "</style>\n",
       "<table border=\"1\" class=\"dataframe\">\n",
       "  <thead>\n",
       "    <tr style=\"text-align: right;\">\n",
       "      <th></th>\n",
       "      <th>title</th>\n",
       "      <th>text</th>\n",
       "      <th>label</th>\n",
       "      <th>tokenized</th>\n",
       "    </tr>\n",
       "  </thead>\n",
       "  <tbody>\n",
       "    <tr>\n",
       "      <th>206</th>\n",
       "      <td>fake news year old screenshot dawnnews shared ...</td>\n",
       "      <td>screenshot tv news report aired last year dawn...</td>\n",
       "      <td>Fake</td>\n",
       "      <td>[screenshot, tv, news, report, air, last, year...</td>\n",
       "    </tr>\n",
       "    <tr>\n",
       "      <th>341</th>\n",
       "      <td>fake news year old screenshot dawnnews shared ...</td>\n",
       "      <td>screenshot tv news report aired last year dawn...</td>\n",
       "      <td>True</td>\n",
       "      <td>[screenshot, tv, news, report, air, last, year...</td>\n",
       "    </tr>\n",
       "    <tr>\n",
       "      <th>176</th>\n",
       "      <td>banks cement help index close green</td>\n",
       "      <td>karachi trading remained range bound stock mar...</td>\n",
       "      <td>True</td>\n",
       "      <td>[karachi, trade, remain, rangebound, stock, ma...</td>\n",
       "    </tr>\n",
       "    <tr>\n",
       "      <th>116</th>\n",
       "      <td>travel karachi dhabeji train</td>\n",
       "      <td>daily labourers able travel karachi dhabeji tr...</td>\n",
       "      <td>True</td>\n",
       "      <td>[daili, labour, abl, travel, karachi, dhabeji,...</td>\n",
       "    </tr>\n",
       "    <tr>\n",
       "      <th>254</th>\n",
       "      <td>russia blocks ukrainian navy entering sea azov</td>\n",
       "      <td>kiev ukraine navy said sunday russia border gu...</td>\n",
       "      <td>True</td>\n",
       "      <td>[kiev, ukrain, navi, said, sunday, russia, bor...</td>\n",
       "    </tr>\n",
       "  </tbody>\n",
       "</table>\n",
       "</div>"
      ],
      "text/plain": [
       "                                                 title  \\\n",
       "206  fake news year old screenshot dawnnews shared ...   \n",
       "341  fake news year old screenshot dawnnews shared ...   \n",
       "176                banks cement help index close green   \n",
       "116                       travel karachi dhabeji train   \n",
       "254     russia blocks ukrainian navy entering sea azov   \n",
       "\n",
       "                                                  text  label  \\\n",
       "206  screenshot tv news report aired last year dawn...   Fake   \n",
       "341  screenshot tv news report aired last year dawn...  True    \n",
       "176  karachi trading remained range bound stock mar...  True    \n",
       "116  daily labourers able travel karachi dhabeji tr...  True    \n",
       "254  kiev ukraine navy said sunday russia border gu...  True    \n",
       "\n",
       "                                             tokenized  \n",
       "206  [screenshot, tv, news, report, air, last, year...  \n",
       "341  [screenshot, tv, news, report, air, last, year...  \n",
       "176  [karachi, trade, remain, rangebound, stock, ma...  \n",
       "116  [daili, labour, abl, travel, karachi, dhabeji,...  \n",
       "254  [kiev, ukrain, navi, said, sunday, russia, bor...  "
      ]
     },
     "execution_count": 15,
     "metadata": {},
     "output_type": "execute_result"
    }
   ],
   "source": [
    "import re\n",
    "def refineWords(s):\n",
    "    letters_only = re.sub(\"[^a-zA-Z]\", \" \", s) \n",
    "    words = letters_only.lower().split()\n",
    "    stops = set(stopwords.words(\"english\"))\n",
    "    meaningful_words = [w for w in words if not w in stops]\n",
    "    #print( \" \".join( meaningful_words ))\n",
    "    return( \" \".join( meaningful_words ))\n",
    "\n",
    "train[\"text\"].fillna(\" \",inplace=True)    \n",
    "train[\"text\"] = train[\"text\"].apply(refineWords)\n",
    "train[\"title\"].fillna(\" \",inplace=True)    \n",
    "train[\"title\"] = train[\"title\"].apply(refineWords)\n",
    "\n",
    "train_two = train.copy()\n",
    "train.head()"
   ]
  },
  {
   "cell_type": "code",
   "execution_count": 16,
   "metadata": {},
   "outputs": [
    {
     "data": {
      "text/html": [
       "<div>\n",
       "<style scoped>\n",
       "    .dataframe tbody tr th:only-of-type {\n",
       "        vertical-align: middle;\n",
       "    }\n",
       "\n",
       "    .dataframe tbody tr th {\n",
       "        vertical-align: top;\n",
       "    }\n",
       "\n",
       "    .dataframe thead th {\n",
       "        text-align: right;\n",
       "    }\n",
       "</style>\n",
       "<table border=\"1\" class=\"dataframe\">\n",
       "  <thead>\n",
       "    <tr style=\"text-align: right;\">\n",
       "      <th></th>\n",
       "      <th>title</th>\n",
       "      <th>text</th>\n",
       "      <th>label</th>\n",
       "      <th>tokenized</th>\n",
       "    </tr>\n",
       "  </thead>\n",
       "  <tbody>\n",
       "    <tr>\n",
       "      <th>206</th>\n",
       "      <td>0</td>\n",
       "      <td>0</td>\n",
       "      <td>Fake</td>\n",
       "      <td>[screenshot, tv, news, report, air, last, year...</td>\n",
       "    </tr>\n",
       "    <tr>\n",
       "      <th>341</th>\n",
       "      <td>0</td>\n",
       "      <td>0</td>\n",
       "      <td>True</td>\n",
       "      <td>[screenshot, tv, news, report, air, last, year...</td>\n",
       "    </tr>\n",
       "    <tr>\n",
       "      <th>176</th>\n",
       "      <td>0</td>\n",
       "      <td>0</td>\n",
       "      <td>True</td>\n",
       "      <td>[karachi, trade, remain, rangebound, stock, ma...</td>\n",
       "    </tr>\n",
       "    <tr>\n",
       "      <th>116</th>\n",
       "      <td>0</td>\n",
       "      <td>0</td>\n",
       "      <td>True</td>\n",
       "      <td>[daili, labour, abl, travel, karachi, dhabeji,...</td>\n",
       "    </tr>\n",
       "    <tr>\n",
       "      <th>254</th>\n",
       "      <td>0</td>\n",
       "      <td>0</td>\n",
       "      <td>True</td>\n",
       "      <td>[kiev, ukrain, navi, said, sunday, russia, bor...</td>\n",
       "    </tr>\n",
       "  </tbody>\n",
       "</table>\n",
       "</div>"
      ],
      "text/plain": [
       "     title  text  label                                          tokenized\n",
       "206      0     0   Fake  [screenshot, tv, news, report, air, last, year...\n",
       "341      0     0  True   [screenshot, tv, news, report, air, last, year...\n",
       "176      0     0  True   [karachi, trade, remain, rangebound, stock, ma...\n",
       "116      0     0  True   [daili, labour, abl, travel, karachi, dhabeji,...\n",
       "254      0     0  True   [kiev, ukrain, navi, said, sunday, russia, bor..."
      ]
     },
     "execution_count": 16,
     "metadata": {},
     "output_type": "execute_result"
    }
   ],
   "source": [
    "train = train_two.copy()\n",
    "from sklearn.feature_extraction.text import CountVectorizer\n",
    "vectorizer = CountVectorizer(analyzer = \"word\",   \\\n",
    "                             tokenizer = None,    \\\n",
    "                             preprocessor = None, \\\n",
    "                             stop_words = None,   \\\n",
    "                             max_features = 5000) \n",
    "#print(train_one[\"title\"].head())\n",
    "#temp  = (vectorizer.fit_transform(train_one[\"text\"]))\n",
    "#train_one[\"text\"] = temp.to_array()\n",
    "train[\"text\"] = vectorizer.fit_transform(train[\"text\"]).toarray()\n",
    "train[\"title\"] = vectorizer.fit_transform(train[\"title\"]).toarray()\n",
    "train.head()"
   ]
  },
  {
   "cell_type": "code",
   "execution_count": 17,
   "metadata": {},
   "outputs": [
    {
     "name": "stderr",
     "output_type": "stream",
     "text": [
      "C:\\Users\\iwx499921\\AppData\\Local\\Continuum\\anaconda3\\lib\\site-packages\\sklearn\\ensemble\\weight_boosting.py:29: DeprecationWarning: numpy.core.umath_tests is an internal NumPy module and should not be imported. It will be removed in a future NumPy release.\n",
      "  from numpy.core.umath_tests import inner1d\n"
     ]
    }
   ],
   "source": [
    "from sklearn.ensemble import RandomForestClassifier\n",
    "forest = RandomForestClassifier(max_depth = 10, min_samples_split=2, n_estimators = 100, random_state = 1)\n",
    "features_forest = train[[\"text\", \"title\"]].values\n",
    "my_forest = forest.fit(features_forest, train[\"label\"])"
   ]
  },
  {
   "cell_type": "code",
   "execution_count": 18,
   "metadata": {},
   "outputs": [
    {
     "name": "stdout",
     "output_type": "stream",
     "text": [
      "0.5636363636363636\n"
     ]
    }
   ],
   "source": [
    "target = train[\"label\"].values\n",
    "print(my_forest.score(features_forest, target))"
   ]
  },
  {
   "cell_type": "code",
   "execution_count": 19,
   "metadata": {},
   "outputs": [
    {
     "name": "stderr",
     "output_type": "stream",
     "text": [
      "C:\\Users\\iwx499921\\AppData\\Local\\Continuum\\anaconda3\\lib\\site-packages\\pandas\\core\\generic.py:5430: SettingWithCopyWarning: \n",
      "A value is trying to be set on a copy of a slice from a DataFrame\n",
      "\n",
      "See the caveats in the documentation: http://pandas.pydata.org/pandas-docs/stable/indexing.html#indexing-view-versus-copy\n",
      "  self._update_inplace(new_data)\n",
      "C:\\Users\\iwx499921\\AppData\\Local\\Continuum\\anaconda3\\lib\\site-packages\\ipykernel_launcher.py:2: SettingWithCopyWarning: \n",
      "A value is trying to be set on a copy of a slice from a DataFrame.\n",
      "Try using .loc[row_indexer,col_indexer] = value instead\n",
      "\n",
      "See the caveats in the documentation: http://pandas.pydata.org/pandas-docs/stable/indexing.html#indexing-view-versus-copy\n",
      "  \n",
      "C:\\Users\\iwx499921\\AppData\\Local\\Continuum\\anaconda3\\lib\\site-packages\\ipykernel_launcher.py:4: SettingWithCopyWarning: \n",
      "A value is trying to be set on a copy of a slice from a DataFrame.\n",
      "Try using .loc[row_indexer,col_indexer] = value instead\n",
      "\n",
      "See the caveats in the documentation: http://pandas.pydata.org/pandas-docs/stable/indexing.html#indexing-view-versus-copy\n",
      "  after removing the cwd from sys.path.\n",
      "C:\\Users\\iwx499921\\AppData\\Local\\Continuum\\anaconda3\\lib\\site-packages\\ipykernel_launcher.py:8: SettingWithCopyWarning: \n",
      "A value is trying to be set on a copy of a slice from a DataFrame.\n",
      "Try using .loc[row_indexer,col_indexer] = value instead\n",
      "\n",
      "See the caveats in the documentation: http://pandas.pydata.org/pandas-docs/stable/indexing.html#indexing-view-versus-copy\n",
      "  \n",
      "C:\\Users\\iwx499921\\AppData\\Local\\Continuum\\anaconda3\\lib\\site-packages\\ipykernel_launcher.py:9: SettingWithCopyWarning: \n",
      "A value is trying to be set on a copy of a slice from a DataFrame.\n",
      "Try using .loc[row_indexer,col_indexer] = value instead\n",
      "\n",
      "See the caveats in the documentation: http://pandas.pydata.org/pandas-docs/stable/indexing.html#indexing-view-versus-copy\n",
      "  if __name__ == '__main__':\n"
     ]
    }
   ],
   "source": [
    "test[\"text\"].fillna(\" \",inplace=True)    \n",
    "test[\"text\"] = test[\"text\"].apply(refineWords)\n",
    "test[\"title\"].fillna(\" \",inplace=True)    \n",
    "test[\"title\"] = test[\"title\"].apply(refineWords)\n",
    "\n",
    "test_two = test.copy()\n",
    "\n",
    "test[\"text\"] = vectorizer.fit_transform(test[\"text\"]).toarray()\n",
    "test[\"title\"] = vectorizer.fit_transform(test[\"title\"]).toarray()"
   ]
  },
  {
   "cell_type": "code",
   "execution_count": 20,
   "metadata": {},
   "outputs": [
    {
     "name": "stdout",
     "output_type": "stream",
     "text": [
      "69 69\n"
     ]
    }
   ],
   "source": [
    "test_features = test[[\"text\", \"title\"]].values\n",
    "my_prediction = my_forest.predict(test_features)\n",
    "print(len(my_prediction),len(test[\"label\"]))\n"
   ]
  },
  {
   "cell_type": "code",
   "execution_count": 21,
   "metadata": {},
   "outputs": [
    {
     "name": "stdout",
     "output_type": "stream",
     "text": [
      "38 0.5507246376811594\n"
     ]
    }
   ],
   "source": [
    "count = 0\n",
    "pred = my_prediction.tolist()\n",
    "test_spam = test[\"label\"].tolist()\n",
    "for i in range(len(pred)):\n",
    "    if pred[i] == test_spam[i]:\n",
    "        count += 1\n",
    "print(count,float(count)/len(my_prediction))\n",
    "#print(my_prediction)\n",
    "#print(test_spam)"
   ]
  },
  {
   "cell_type": "code",
   "execution_count": 22,
   "metadata": {},
   "outputs": [
    {
     "name": "stdout",
     "output_type": "stream",
     "text": [
      "['Fake' 'Fake' 'Fake' 'Fake' 'Fake' 'Fake' 'Fake' 'Fake' 'Fake' 'Fake'\n",
      " 'Fake' 'Fake' 'Fake' 'Fake' 'Fake' 'Fake' 'Fake' 'Fake' 'Fake' 'Fake'\n",
      " 'Fake' 'Fake' 'Fake' 'Fake' 'Fake' 'Fake' 'Fake' 'Fake' 'Fake' 'Fake'\n",
      " 'Fake' 'Fake' 'Fake' 'Fake' 'Fake' 'Fake' 'Fake' 'Fake' 'Fake' 'Fake'\n",
      " 'Fake' 'Fake' 'Fake' 'Fake' 'Fake' 'Fake' 'Fake' 'Fake' 'Fake' 'Fake'\n",
      " 'Fake' 'Fake' 'Fake' 'Fake' 'Fake' 'Fake' 'Fake' 'Fake' 'Fake' 'Fake'\n",
      " 'True ' 'Fake' 'Fake' 'Fake' 'Fake' 'Fake' 'Fake' 'Fake' 'Fake']\n"
     ]
    }
   ],
   "source": [
    "print(my_prediction)\n",
    "\n"
   ]
  },
  {
   "cell_type": "code",
   "execution_count": 23,
   "metadata": {},
   "outputs": [
    {
     "name": "stdout",
     "output_type": "stream",
     "text": [
      "['Fake', 'True ', 'True ', 'True ', 'True ', 'Fake', 'Fake', 'True ', 'Fake', 'True ', 'True ', 'True ', 'Fake', 'Fake', 'True ', 'True ', 'True ', 'True ', 'Fake', 'True ', 'Fake', 'Fake', 'Fake', 'Fake', 'Fake', 'True ', 'True ', 'Fake', 'Fake', 'True ', 'Fake', 'True ', 'Fake', 'True ', 'Fake', 'Fake', 'True ', 'True ', 'True ', 'Fake', 'True ', 'Fake', 'Fake', 'Fake', 'True ', 'Fake', 'Fake', 'True ', 'Fake', 'Fake', 'Fake', 'Fake', 'Fake', 'True ', 'True ', 'Fake', 'True ', 'Fake', 'True ', 'Fake', 'True ', 'Fake', 'Fake', 'Fake', 'True ', 'True ', 'True ', 'Fake', 'Fake']\n"
     ]
    }
   ],
   "source": [
    "print(test_spam)"
   ]
  },
  {
   "cell_type": "code",
   "execution_count": null,
   "metadata": {},
   "outputs": [],
   "source": []
  },
  {
   "cell_type": "code",
   "execution_count": null,
   "metadata": {},
   "outputs": [],
   "source": []
  }
 ],
 "metadata": {
  "kernelspec": {
   "display_name": "Python 3",
   "language": "python",
   "name": "python3"
  },
  "language_info": {
   "codemirror_mode": {
    "name": "ipython",
    "version": 3
   },
   "file_extension": ".py",
   "mimetype": "text/x-python",
   "name": "python",
   "nbconvert_exporter": "python",
   "pygments_lexer": "ipython3",
   "version": "3.6.5"
  }
 },
 "nbformat": 4,
 "nbformat_minor": 2
}
